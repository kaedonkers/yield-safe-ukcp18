{
 "cells": [
  {
   "cell_type": "markdown",
   "id": "b74ba19d-7017-466f-a422-1c98fe75f9cc",
   "metadata": {},
   "source": [
    "# 20220324: Comparing `fastparquet` to `sqlite`\n",
    "Timings and data storage sizes for Pandas dataframes generated from NetCDF files"
   ]
  },
  {
   "cell_type": "code",
   "execution_count": 1,
   "id": "16a69fd5-432c-42d3-b3ac-40ed5dfe28ca",
   "metadata": {},
   "outputs": [],
   "source": [
    "import iris\n",
    "import pandas as pd\n",
    "import fastparquet as fpq\n",
    "import sqlite3 as sql\n",
    "import irisxarraypandas as ixp"
   ]
  },
  {
   "cell_type": "code",
   "execution_count": 2,
   "id": "47ca0405-0514-41f8-bb2d-ec56a1a12660",
   "metadata": {},
   "outputs": [
    {
     "name": "stdout",
     "output_type": "stream",
     "text": [
      "CPU times: user 77.7 ms, sys: 14.6 ms, total: 92.3 ms\n",
      "Wall time: 105 ms\n"
     ]
    },
    {
     "data": {
      "text/plain": [
       "'lwe_precipitation_rate / (mm/day)   (ensemble_member: 1; time: 360; projection_y_coordinate: 112; projection_x_coordinate: 82)'"
      ]
     },
     "execution_count": 2,
     "metadata": {},
     "output_type": "execute_result"
    }
   ],
   "source": [
    "%%time\n",
    "fname = \"pr_ukcp_1yr\"\n",
    "cube = iris.load_cube(f\"{fname}.nc\")\n",
    "cube.summary(shorten=True)"
   ]
  },
  {
   "cell_type": "code",
   "execution_count": 3,
   "id": "f40bdb88-7425-4078-bc42-b52fbb67aff5",
   "metadata": {},
   "outputs": [
    {
     "name": "stderr",
     "output_type": "stream",
     "text": [
      "/Users/kevin.donkers/opt/miniconda3/envs/data/lib/python3.7/site-packages/iris/coord_systems.py:531: UserWarning: The default value for the *approx* keyword argument to TransverseMercator will change from True to False after 0.18.\n",
      "  globe=globe,\n"
     ]
    },
    {
     "name": "stdout",
     "output_type": "stream",
     "text": [
      "CPU times: user 7.05 s, sys: 1.49 s, total: 8.55 s\n",
      "Wall time: 8.74 s\n"
     ]
    }
   ],
   "source": [
    "%%time\n",
    "df = ixp.cube_to_dataframe(ixp.add_lat_lon(cube))"
   ]
  },
  {
   "cell_type": "code",
   "execution_count": 4,
   "id": "024a3882-2d71-4066-8d64-f86ea469bfd0",
   "metadata": {},
   "outputs": [],
   "source": [
    "# SQLite and Parquet were struggling to process the time objects\n",
    "df.drop(columns=['time'], inplace=True)"
   ]
  },
  {
   "cell_type": "code",
   "execution_count": 5,
   "id": "f4e46bf6-1c08-4770-a2aa-d0ee8328e749",
   "metadata": {},
   "outputs": [
    {
     "data": {
      "text/html": [
       "<div>\n",
       "<style scoped>\n",
       "    .dataframe tbody tr th:only-of-type {\n",
       "        vertical-align: middle;\n",
       "    }\n",
       "\n",
       "    .dataframe tbody tr th {\n",
       "        vertical-align: top;\n",
       "    }\n",
       "\n",
       "    .dataframe thead th {\n",
       "        text-align: right;\n",
       "    }\n",
       "</style>\n",
       "<table border=\"1\" class=\"dataframe\">\n",
       "  <thead>\n",
       "    <tr style=\"text-align: right;\">\n",
       "      <th></th>\n",
       "      <th>ensemble_member</th>\n",
       "      <th>projection_y_coordinate</th>\n",
       "      <th>projection_x_coordinate</th>\n",
       "      <th>ensemble_member_id</th>\n",
       "      <th>month_number</th>\n",
       "      <th>year</th>\n",
       "      <th>yyyymmdd</th>\n",
       "      <th>grid_latitude</th>\n",
       "      <th>grid_longitude</th>\n",
       "      <th>latitude</th>\n",
       "      <th>longitude</th>\n",
       "      <th>pr</th>\n",
       "    </tr>\n",
       "  </thead>\n",
       "  <tbody>\n",
       "    <tr>\n",
       "      <th>0</th>\n",
       "      <td>1</td>\n",
       "      <td>-102000.0</td>\n",
       "      <td>-210000.0</td>\n",
       "      <td>HadREM3-GA705-r001i1p00000</td>\n",
       "      <td>12</td>\n",
       "      <td>2020</td>\n",
       "      <td>20201201</td>\n",
       "      <td>1.432699</td>\n",
       "      <td>-18.241456</td>\n",
       "      <td>48.682767</td>\n",
       "      <td>-10.291939</td>\n",
       "      <td>0.690706</td>\n",
       "    </tr>\n",
       "    <tr>\n",
       "      <th>1</th>\n",
       "      <td>1</td>\n",
       "      <td>-102000.0</td>\n",
       "      <td>-198000.0</td>\n",
       "      <td>HadREM3-GA705-r001i1p00000</td>\n",
       "      <td>12</td>\n",
       "      <td>2020</td>\n",
       "      <td>20201201</td>\n",
       "      <td>1.404462</td>\n",
       "      <td>-18.138041</td>\n",
       "      <td>48.694350</td>\n",
       "      <td>-10.130549</td>\n",
       "      <td>0.853663</td>\n",
       "    </tr>\n",
       "    <tr>\n",
       "      <th>2</th>\n",
       "      <td>1</td>\n",
       "      <td>-102000.0</td>\n",
       "      <td>-186000.0</td>\n",
       "      <td>HadREM3-GA705-r001i1p00000</td>\n",
       "      <td>12</td>\n",
       "      <td>2020</td>\n",
       "      <td>20201201</td>\n",
       "      <td>1.376215</td>\n",
       "      <td>-18.034611</td>\n",
       "      <td>48.705708</td>\n",
       "      <td>-9.969056</td>\n",
       "      <td>1.088705</td>\n",
       "    </tr>\n",
       "    <tr>\n",
       "      <th>3</th>\n",
       "      <td>1</td>\n",
       "      <td>-102000.0</td>\n",
       "      <td>-174000.0</td>\n",
       "      <td>HadREM3-GA705-r001i1p00000</td>\n",
       "      <td>12</td>\n",
       "      <td>2020</td>\n",
       "      <td>20201201</td>\n",
       "      <td>1.347959</td>\n",
       "      <td>-17.931165</td>\n",
       "      <td>48.716841</td>\n",
       "      <td>-9.807464</td>\n",
       "      <td>1.452076</td>\n",
       "    </tr>\n",
       "    <tr>\n",
       "      <th>4</th>\n",
       "      <td>1</td>\n",
       "      <td>-102000.0</td>\n",
       "      <td>-162000.0</td>\n",
       "      <td>HadREM3-GA705-r001i1p00000</td>\n",
       "      <td>12</td>\n",
       "      <td>2020</td>\n",
       "      <td>20201201</td>\n",
       "      <td>1.319692</td>\n",
       "      <td>-17.827705</td>\n",
       "      <td>48.727750</td>\n",
       "      <td>-9.645773</td>\n",
       "      <td>1.969763</td>\n",
       "    </tr>\n",
       "  </tbody>\n",
       "</table>\n",
       "</div>"
      ],
      "text/plain": [
       "   ensemble_member  projection_y_coordinate  projection_x_coordinate  \\\n",
       "0                1                -102000.0                -210000.0   \n",
       "1                1                -102000.0                -198000.0   \n",
       "2                1                -102000.0                -186000.0   \n",
       "3                1                -102000.0                -174000.0   \n",
       "4                1                -102000.0                -162000.0   \n",
       "\n",
       "           ensemble_member_id  month_number  year  yyyymmdd  grid_latitude  \\\n",
       "0  HadREM3-GA705-r001i1p00000            12  2020  20201201       1.432699   \n",
       "1  HadREM3-GA705-r001i1p00000            12  2020  20201201       1.404462   \n",
       "2  HadREM3-GA705-r001i1p00000            12  2020  20201201       1.376215   \n",
       "3  HadREM3-GA705-r001i1p00000            12  2020  20201201       1.347959   \n",
       "4  HadREM3-GA705-r001i1p00000            12  2020  20201201       1.319692   \n",
       "\n",
       "   grid_longitude   latitude  longitude        pr  \n",
       "0      -18.241456  48.682767 -10.291939  0.690706  \n",
       "1      -18.138041  48.694350 -10.130549  0.853663  \n",
       "2      -18.034611  48.705708  -9.969056  1.088705  \n",
       "3      -17.931165  48.716841  -9.807464  1.452076  \n",
       "4      -17.827705  48.727750  -9.645773  1.969763  "
      ]
     },
     "execution_count": 5,
     "metadata": {},
     "output_type": "execute_result"
    }
   ],
   "source": [
    "df.head()"
   ]
  },
  {
   "cell_type": "markdown",
   "id": "e11c760c-3d2d-4ed9-9dd3-4af573c9a4a8",
   "metadata": {},
   "source": [
    "# CSV"
   ]
  },
  {
   "cell_type": "markdown",
   "id": "039e85ab-017f-4954-802c-66104d8d097f",
   "metadata": {},
   "source": [
    "Write"
   ]
  },
  {
   "cell_type": "code",
   "execution_count": 6,
   "id": "c755a528-7f2b-4d70-9108-491eed08e298",
   "metadata": {},
   "outputs": [
    {
     "name": "stdout",
     "output_type": "stream",
     "text": [
      "CPU times: user 26.5 s, sys: 728 ms, total: 27.3 s\n",
      "Wall time: 28.3 s\n"
     ]
    }
   ],
   "source": [
    "%%time\n",
    "df.to_csv(f\"{fname}.csv\")"
   ]
  },
  {
   "cell_type": "markdown",
   "id": "30095c74-1f07-4542-b955-caa5fd8d80d0",
   "metadata": {},
   "source": [
    "Read"
   ]
  },
  {
   "cell_type": "code",
   "execution_count": 13,
   "id": "3c56d238-5ff2-4c3d-9f6d-06dbe944c123",
   "metadata": {},
   "outputs": [
    {
     "name": "stdout",
     "output_type": "stream",
     "text": [
      "CPU times: user 4.12 s, sys: 822 ms, total: 4.94 s\n",
      "Wall time: 5.11 s\n"
     ]
    },
    {
     "data": {
      "text/html": [
       "<div>\n",
       "<style scoped>\n",
       "    .dataframe tbody tr th:only-of-type {\n",
       "        vertical-align: middle;\n",
       "    }\n",
       "\n",
       "    .dataframe tbody tr th {\n",
       "        vertical-align: top;\n",
       "    }\n",
       "\n",
       "    .dataframe thead th {\n",
       "        text-align: right;\n",
       "    }\n",
       "</style>\n",
       "<table border=\"1\" class=\"dataframe\">\n",
       "  <thead>\n",
       "    <tr style=\"text-align: right;\">\n",
       "      <th></th>\n",
       "      <th>Unnamed: 0</th>\n",
       "      <th>ensemble_member</th>\n",
       "      <th>projection_y_coordinate</th>\n",
       "      <th>projection_x_coordinate</th>\n",
       "      <th>ensemble_member_id</th>\n",
       "      <th>month_number</th>\n",
       "      <th>year</th>\n",
       "      <th>yyyymmdd</th>\n",
       "      <th>grid_latitude</th>\n",
       "      <th>grid_longitude</th>\n",
       "      <th>latitude</th>\n",
       "      <th>longitude</th>\n",
       "      <th>pr</th>\n",
       "    </tr>\n",
       "  </thead>\n",
       "  <tbody>\n",
       "    <tr>\n",
       "      <th>0</th>\n",
       "      <td>0</td>\n",
       "      <td>1</td>\n",
       "      <td>-102000.0</td>\n",
       "      <td>-210000.0</td>\n",
       "      <td>HadREM3-GA705-r001i1p00000</td>\n",
       "      <td>12</td>\n",
       "      <td>2020</td>\n",
       "      <td>20201201</td>\n",
       "      <td>1.432699</td>\n",
       "      <td>-18.241456</td>\n",
       "      <td>48.682767</td>\n",
       "      <td>-10.291939</td>\n",
       "      <td>0.690706</td>\n",
       "    </tr>\n",
       "    <tr>\n",
       "      <th>1</th>\n",
       "      <td>1</td>\n",
       "      <td>1</td>\n",
       "      <td>-102000.0</td>\n",
       "      <td>-198000.0</td>\n",
       "      <td>HadREM3-GA705-r001i1p00000</td>\n",
       "      <td>12</td>\n",
       "      <td>2020</td>\n",
       "      <td>20201201</td>\n",
       "      <td>1.404462</td>\n",
       "      <td>-18.138041</td>\n",
       "      <td>48.694350</td>\n",
       "      <td>-10.130549</td>\n",
       "      <td>0.853663</td>\n",
       "    </tr>\n",
       "    <tr>\n",
       "      <th>2</th>\n",
       "      <td>2</td>\n",
       "      <td>1</td>\n",
       "      <td>-102000.0</td>\n",
       "      <td>-186000.0</td>\n",
       "      <td>HadREM3-GA705-r001i1p00000</td>\n",
       "      <td>12</td>\n",
       "      <td>2020</td>\n",
       "      <td>20201201</td>\n",
       "      <td>1.376215</td>\n",
       "      <td>-18.034611</td>\n",
       "      <td>48.705708</td>\n",
       "      <td>-9.969056</td>\n",
       "      <td>1.088705</td>\n",
       "    </tr>\n",
       "    <tr>\n",
       "      <th>3</th>\n",
       "      <td>3</td>\n",
       "      <td>1</td>\n",
       "      <td>-102000.0</td>\n",
       "      <td>-174000.0</td>\n",
       "      <td>HadREM3-GA705-r001i1p00000</td>\n",
       "      <td>12</td>\n",
       "      <td>2020</td>\n",
       "      <td>20201201</td>\n",
       "      <td>1.347959</td>\n",
       "      <td>-17.931165</td>\n",
       "      <td>48.716841</td>\n",
       "      <td>-9.807464</td>\n",
       "      <td>1.452076</td>\n",
       "    </tr>\n",
       "    <tr>\n",
       "      <th>4</th>\n",
       "      <td>4</td>\n",
       "      <td>1</td>\n",
       "      <td>-102000.0</td>\n",
       "      <td>-162000.0</td>\n",
       "      <td>HadREM3-GA705-r001i1p00000</td>\n",
       "      <td>12</td>\n",
       "      <td>2020</td>\n",
       "      <td>20201201</td>\n",
       "      <td>1.319692</td>\n",
       "      <td>-17.827705</td>\n",
       "      <td>48.727750</td>\n",
       "      <td>-9.645773</td>\n",
       "      <td>1.969763</td>\n",
       "    </tr>\n",
       "  </tbody>\n",
       "</table>\n",
       "</div>"
      ],
      "text/plain": [
       "   Unnamed: 0  ensemble_member  projection_y_coordinate  \\\n",
       "0           0                1                -102000.0   \n",
       "1           1                1                -102000.0   \n",
       "2           2                1                -102000.0   \n",
       "3           3                1                -102000.0   \n",
       "4           4                1                -102000.0   \n",
       "\n",
       "   projection_x_coordinate          ensemble_member_id  month_number  year  \\\n",
       "0                -210000.0  HadREM3-GA705-r001i1p00000            12  2020   \n",
       "1                -198000.0  HadREM3-GA705-r001i1p00000            12  2020   \n",
       "2                -186000.0  HadREM3-GA705-r001i1p00000            12  2020   \n",
       "3                -174000.0  HadREM3-GA705-r001i1p00000            12  2020   \n",
       "4                -162000.0  HadREM3-GA705-r001i1p00000            12  2020   \n",
       "\n",
       "   yyyymmdd  grid_latitude  grid_longitude   latitude  longitude        pr  \n",
       "0  20201201       1.432699      -18.241456  48.682767 -10.291939  0.690706  \n",
       "1  20201201       1.404462      -18.138041  48.694350 -10.130549  0.853663  \n",
       "2  20201201       1.376215      -18.034611  48.705708  -9.969056  1.088705  \n",
       "3  20201201       1.347959      -17.931165  48.716841  -9.807464  1.452076  \n",
       "4  20201201       1.319692      -17.827705  48.727750  -9.645773  1.969763  "
      ]
     },
     "execution_count": 13,
     "metadata": {},
     "output_type": "execute_result"
    }
   ],
   "source": [
    "%%time\n",
    "pd.read_csv(f\"{fname}.csv\").head()"
   ]
  },
  {
   "cell_type": "markdown",
   "id": "63a0be7c-588b-4ec9-aac9-9c79bb18effe",
   "metadata": {
    "tags": []
   },
   "source": [
    "## SQLite"
   ]
  },
  {
   "cell_type": "markdown",
   "id": "863a5e76-9a57-40ba-96ad-18f691c454b2",
   "metadata": {},
   "source": [
    "Write"
   ]
  },
  {
   "cell_type": "code",
   "execution_count": 8,
   "id": "5065f11c-8111-4f52-a601-b25b64d891d3",
   "metadata": {},
   "outputs": [
    {
     "name": "stdout",
     "output_type": "stream",
     "text": [
      "CPU times: user 10 s, sys: 1.36 s, total: 11.4 s\n",
      "Wall time: 12.1 s\n"
     ]
    }
   ],
   "source": [
    "%%time\n",
    "conn = sql.connect(f\"{fname}.db\")\n",
    "df.to_sql('ukcp18', conn)"
   ]
  },
  {
   "cell_type": "markdown",
   "id": "8e73be7d-e920-4254-be9b-9b3b6d2f12f0",
   "metadata": {},
   "source": [
    "Read"
   ]
  },
  {
   "cell_type": "code",
   "execution_count": 9,
   "id": "9b5f6eb2-c8a2-4c00-8b89-ad10c71b5acd",
   "metadata": {},
   "outputs": [
    {
     "name": "stdout",
     "output_type": "stream",
     "text": [
      "CPU times: user 3.25 s, sys: 860 ms, total: 4.11 s\n",
      "Wall time: 5.91 s\n"
     ]
    },
    {
     "data": {
      "text/html": [
       "<div>\n",
       "<style scoped>\n",
       "    .dataframe tbody tr th:only-of-type {\n",
       "        vertical-align: middle;\n",
       "    }\n",
       "\n",
       "    .dataframe tbody tr th {\n",
       "        vertical-align: top;\n",
       "    }\n",
       "\n",
       "    .dataframe thead th {\n",
       "        text-align: right;\n",
       "    }\n",
       "</style>\n",
       "<table border=\"1\" class=\"dataframe\">\n",
       "  <thead>\n",
       "    <tr style=\"text-align: right;\">\n",
       "      <th></th>\n",
       "      <th>yyyymmdd</th>\n",
       "      <th>pr</th>\n",
       "    </tr>\n",
       "  </thead>\n",
       "  <tbody>\n",
       "    <tr>\n",
       "      <th>0</th>\n",
       "      <td>20201201</td>\n",
       "      <td>0.690706</td>\n",
       "    </tr>\n",
       "    <tr>\n",
       "      <th>1</th>\n",
       "      <td>20201201</td>\n",
       "      <td>0.853663</td>\n",
       "    </tr>\n",
       "    <tr>\n",
       "      <th>2</th>\n",
       "      <td>20201201</td>\n",
       "      <td>1.088705</td>\n",
       "    </tr>\n",
       "    <tr>\n",
       "      <th>3</th>\n",
       "      <td>20201201</td>\n",
       "      <td>1.452076</td>\n",
       "    </tr>\n",
       "    <tr>\n",
       "      <th>4</th>\n",
       "      <td>20201201</td>\n",
       "      <td>1.969763</td>\n",
       "    </tr>\n",
       "  </tbody>\n",
       "</table>\n",
       "</div>"
      ],
      "text/plain": [
       "   yyyymmdd        pr\n",
       "0  20201201  0.690706\n",
       "1  20201201  0.853663\n",
       "2  20201201  1.088705\n",
       "3  20201201  1.452076\n",
       "4  20201201  1.969763"
      ]
     },
     "execution_count": 9,
     "metadata": {},
     "output_type": "execute_result"
    }
   ],
   "source": [
    "%%time\n",
    "pd.read_sql('SELECT yyyymmdd, pr FROM ukcp18', conn).head()"
   ]
  },
  {
   "cell_type": "markdown",
   "id": "059cd340-572e-4e89-9db8-1ac09b96b060",
   "metadata": {},
   "source": [
    "## Parquet"
   ]
  },
  {
   "cell_type": "markdown",
   "id": "ab78d58d-88a5-446a-a1ec-7104006072ea",
   "metadata": {},
   "source": [
    "Write"
   ]
  },
  {
   "cell_type": "code",
   "execution_count": 10,
   "id": "02c24a0e-1569-414e-b41f-31a537e5fa72",
   "metadata": {},
   "outputs": [
    {
     "name": "stdout",
     "output_type": "stream",
     "text": [
      "CPU times: user 2.35 s, sys: 461 ms, total: 2.81 s\n",
      "Wall time: 3.07 s\n"
     ]
    }
   ],
   "source": [
    "%%time\n",
    "fpq.write(f\"{fname}.parq\", df)"
   ]
  },
  {
   "cell_type": "markdown",
   "id": "aa024616-5703-4a31-a1c6-cd7dcc4840d5",
   "metadata": {},
   "source": [
    "Read"
   ]
  },
  {
   "cell_type": "code",
   "execution_count": 11,
   "id": "dd79f5a6-6a18-4288-816e-634e8aed641f",
   "metadata": {},
   "outputs": [
    {
     "name": "stdout",
     "output_type": "stream",
     "text": [
      "CPU times: user 183 ms, sys: 23.8 ms, total: 207 ms\n",
      "Wall time: 213 ms\n"
     ]
    },
    {
     "data": {
      "text/html": [
       "<div>\n",
       "<style scoped>\n",
       "    .dataframe tbody tr th:only-of-type {\n",
       "        vertical-align: middle;\n",
       "    }\n",
       "\n",
       "    .dataframe tbody tr th {\n",
       "        vertical-align: top;\n",
       "    }\n",
       "\n",
       "    .dataframe thead th {\n",
       "        text-align: right;\n",
       "    }\n",
       "</style>\n",
       "<table border=\"1\" class=\"dataframe\">\n",
       "  <thead>\n",
       "    <tr style=\"text-align: right;\">\n",
       "      <th></th>\n",
       "      <th>yyyymmdd</th>\n",
       "      <th>pr</th>\n",
       "    </tr>\n",
       "  </thead>\n",
       "  <tbody>\n",
       "    <tr>\n",
       "      <th>0</th>\n",
       "      <td>20201201</td>\n",
       "      <td>0.690706</td>\n",
       "    </tr>\n",
       "    <tr>\n",
       "      <th>1</th>\n",
       "      <td>20201201</td>\n",
       "      <td>0.853663</td>\n",
       "    </tr>\n",
       "    <tr>\n",
       "      <th>2</th>\n",
       "      <td>20201201</td>\n",
       "      <td>1.088705</td>\n",
       "    </tr>\n",
       "    <tr>\n",
       "      <th>3</th>\n",
       "      <td>20201201</td>\n",
       "      <td>1.452076</td>\n",
       "    </tr>\n",
       "    <tr>\n",
       "      <th>4</th>\n",
       "      <td>20201201</td>\n",
       "      <td>1.969763</td>\n",
       "    </tr>\n",
       "  </tbody>\n",
       "</table>\n",
       "</div>"
      ],
      "text/plain": [
       "   yyyymmdd        pr\n",
       "0  20201201  0.690706\n",
       "1  20201201  0.853663\n",
       "2  20201201  1.088705\n",
       "3  20201201  1.452076\n",
       "4  20201201  1.969763"
      ]
     },
     "execution_count": 11,
     "metadata": {},
     "output_type": "execute_result"
    }
   ],
   "source": [
    "%%time\n",
    "fpq.ParquetFile(f\"{fname}.parq\").to_pandas(['yyyymmdd', 'pr']).head()"
   ]
  },
  {
   "cell_type": "markdown",
   "id": "39049886-0e49-4b6e-8fe6-9fa56dd18f09",
   "metadata": {
    "tags": []
   },
   "source": [
    "### With GZIP compression"
   ]
  },
  {
   "cell_type": "markdown",
   "id": "67e9d973-8b50-4caf-8276-47d1647c4683",
   "metadata": {},
   "source": [
    "Write"
   ]
  },
  {
   "cell_type": "code",
   "execution_count": 14,
   "id": "08a85259-d4ef-48f6-9655-cf6bdea1f392",
   "metadata": {},
   "outputs": [
    {
     "name": "stdout",
     "output_type": "stream",
     "text": [
      "CPU times: user 7.72 s, sys: 516 ms, total: 8.24 s\n",
      "Wall time: 8.46 s\n"
     ]
    }
   ],
   "source": [
    "%%time\n",
    "fpq.write(f\"{fname}_gzip.parq\", df, compression=\"GZIP\")"
   ]
  },
  {
   "cell_type": "markdown",
   "id": "c23c3939-3a95-4097-ad2c-50212af6e8da",
   "metadata": {},
   "source": [
    "Read"
   ]
  },
  {
   "cell_type": "code",
   "execution_count": 15,
   "id": "752ce229-9390-4330-8234-06f6b82e620a",
   "metadata": {},
   "outputs": [
    {
     "name": "stdout",
     "output_type": "stream",
     "text": [
      "CPU times: user 308 ms, sys: 69.6 ms, total: 378 ms\n",
      "Wall time: 380 ms\n"
     ]
    },
    {
     "data": {
      "text/html": [
       "<div>\n",
       "<style scoped>\n",
       "    .dataframe tbody tr th:only-of-type {\n",
       "        vertical-align: middle;\n",
       "    }\n",
       "\n",
       "    .dataframe tbody tr th {\n",
       "        vertical-align: top;\n",
       "    }\n",
       "\n",
       "    .dataframe thead th {\n",
       "        text-align: right;\n",
       "    }\n",
       "</style>\n",
       "<table border=\"1\" class=\"dataframe\">\n",
       "  <thead>\n",
       "    <tr style=\"text-align: right;\">\n",
       "      <th></th>\n",
       "      <th>yyyymmdd</th>\n",
       "      <th>pr</th>\n",
       "    </tr>\n",
       "  </thead>\n",
       "  <tbody>\n",
       "    <tr>\n",
       "      <th>0</th>\n",
       "      <td>20201201</td>\n",
       "      <td>0.690706</td>\n",
       "    </tr>\n",
       "    <tr>\n",
       "      <th>1</th>\n",
       "      <td>20201201</td>\n",
       "      <td>0.853663</td>\n",
       "    </tr>\n",
       "    <tr>\n",
       "      <th>2</th>\n",
       "      <td>20201201</td>\n",
       "      <td>1.088705</td>\n",
       "    </tr>\n",
       "    <tr>\n",
       "      <th>3</th>\n",
       "      <td>20201201</td>\n",
       "      <td>1.452076</td>\n",
       "    </tr>\n",
       "    <tr>\n",
       "      <th>4</th>\n",
       "      <td>20201201</td>\n",
       "      <td>1.969763</td>\n",
       "    </tr>\n",
       "  </tbody>\n",
       "</table>\n",
       "</div>"
      ],
      "text/plain": [
       "   yyyymmdd        pr\n",
       "0  20201201  0.690706\n",
       "1  20201201  0.853663\n",
       "2  20201201  1.088705\n",
       "3  20201201  1.452076\n",
       "4  20201201  1.969763"
      ]
     },
     "execution_count": 15,
     "metadata": {},
     "output_type": "execute_result"
    }
   ],
   "source": [
    "%%time\n",
    "fpq.ParquetFile(f\"{fname}_gzip.parq\").to_pandas(['yyyymmdd', 'pr']).head()"
   ]
  },
  {
   "cell_type": "markdown",
   "id": "7baf6acf-545b-49a5-bbe4-78c7329c2207",
   "metadata": {
    "tags": []
   },
   "source": [
    "### With SNAPPY compression"
   ]
  },
  {
   "cell_type": "markdown",
   "id": "dae14c8a-c79c-4c2f-b6fd-90a27ab3694d",
   "metadata": {},
   "source": [
    "Write"
   ]
  },
  {
   "cell_type": "code",
   "execution_count": 17,
   "id": "9b51b77b-7a96-4cf3-819e-a88669853c9a",
   "metadata": {},
   "outputs": [
    {
     "name": "stdout",
     "output_type": "stream",
     "text": [
      "CPU times: user 2.47 s, sys: 605 ms, total: 3.07 s\n",
      "Wall time: 3.13 s\n"
     ]
    }
   ],
   "source": [
    "%%time\n",
    "fpq.write(f\"{fname}_snappy.parq\", df, compression=\"SNAPPY\")"
   ]
  },
  {
   "cell_type": "markdown",
   "id": "dd902a04-5b52-4e11-bbd1-65bce3005fde",
   "metadata": {},
   "source": [
    "Read"
   ]
  },
  {
   "cell_type": "code",
   "execution_count": 18,
   "id": "6d8064e0-1e01-4541-98ce-4365f47bd3f1",
   "metadata": {},
   "outputs": [
    {
     "name": "stdout",
     "output_type": "stream",
     "text": [
      "CPU times: user 220 ms, sys: 80 ms, total: 300 ms\n",
      "Wall time: 301 ms\n"
     ]
    },
    {
     "data": {
      "text/html": [
       "<div>\n",
       "<style scoped>\n",
       "    .dataframe tbody tr th:only-of-type {\n",
       "        vertical-align: middle;\n",
       "    }\n",
       "\n",
       "    .dataframe tbody tr th {\n",
       "        vertical-align: top;\n",
       "    }\n",
       "\n",
       "    .dataframe thead th {\n",
       "        text-align: right;\n",
       "    }\n",
       "</style>\n",
       "<table border=\"1\" class=\"dataframe\">\n",
       "  <thead>\n",
       "    <tr style=\"text-align: right;\">\n",
       "      <th></th>\n",
       "      <th>yyyymmdd</th>\n",
       "      <th>pr</th>\n",
       "    </tr>\n",
       "  </thead>\n",
       "  <tbody>\n",
       "    <tr>\n",
       "      <th>0</th>\n",
       "      <td>20201201</td>\n",
       "      <td>0.690706</td>\n",
       "    </tr>\n",
       "    <tr>\n",
       "      <th>1</th>\n",
       "      <td>20201201</td>\n",
       "      <td>0.853663</td>\n",
       "    </tr>\n",
       "    <tr>\n",
       "      <th>2</th>\n",
       "      <td>20201201</td>\n",
       "      <td>1.088705</td>\n",
       "    </tr>\n",
       "    <tr>\n",
       "      <th>3</th>\n",
       "      <td>20201201</td>\n",
       "      <td>1.452076</td>\n",
       "    </tr>\n",
       "    <tr>\n",
       "      <th>4</th>\n",
       "      <td>20201201</td>\n",
       "      <td>1.969763</td>\n",
       "    </tr>\n",
       "  </tbody>\n",
       "</table>\n",
       "</div>"
      ],
      "text/plain": [
       "   yyyymmdd        pr\n",
       "0  20201201  0.690706\n",
       "1  20201201  0.853663\n",
       "2  20201201  1.088705\n",
       "3  20201201  1.452076\n",
       "4  20201201  1.969763"
      ]
     },
     "execution_count": 18,
     "metadata": {},
     "output_type": "execute_result"
    }
   ],
   "source": [
    "%%time\n",
    "fpq.ParquetFile(f\"{fname}_snappy.parq\").to_pandas(['yyyymmdd', 'pr']).head()"
   ]
  },
  {
   "cell_type": "markdown",
   "id": "b32a1896-a26a-4a5a-802d-a52ceda051ce",
   "metadata": {
    "tags": []
   },
   "source": [
    "### With brotli compression"
   ]
  },
  {
   "cell_type": "markdown",
   "id": "57f957dd-6765-4e81-ac9b-cb1395b5f25f",
   "metadata": {},
   "source": [
    "Write"
   ]
  },
  {
   "cell_type": "code",
   "execution_count": 19,
   "id": "659eb2bd-f81f-401d-a043-f5177e3926f2",
   "metadata": {},
   "outputs": [
    {
     "name": "stdout",
     "output_type": "stream",
     "text": [
      "CPU times: user 1min 11s, sys: 1.41 s, total: 1min 12s\n",
      "Wall time: 1min 13s\n"
     ]
    }
   ],
   "source": [
    "%%time\n",
    "fpq.write(f\"{fname}_brotli.parq\", df, compression=\"brotli\")"
   ]
  },
  {
   "cell_type": "markdown",
   "id": "17e6f43f-510a-4902-bf19-3339b86e6c8f",
   "metadata": {},
   "source": [
    "Read"
   ]
  },
  {
   "cell_type": "code",
   "execution_count": 20,
   "id": "113c27dc-730b-4470-aa80-e4c6c943884f",
   "metadata": {},
   "outputs": [
    {
     "name": "stdout",
     "output_type": "stream",
     "text": [
      "CPU times: user 431 ms, sys: 110 ms, total: 542 ms\n",
      "Wall time: 548 ms\n"
     ]
    },
    {
     "data": {
      "text/html": [
       "<div>\n",
       "<style scoped>\n",
       "    .dataframe tbody tr th:only-of-type {\n",
       "        vertical-align: middle;\n",
       "    }\n",
       "\n",
       "    .dataframe tbody tr th {\n",
       "        vertical-align: top;\n",
       "    }\n",
       "\n",
       "    .dataframe thead th {\n",
       "        text-align: right;\n",
       "    }\n",
       "</style>\n",
       "<table border=\"1\" class=\"dataframe\">\n",
       "  <thead>\n",
       "    <tr style=\"text-align: right;\">\n",
       "      <th></th>\n",
       "      <th>yyyymmdd</th>\n",
       "      <th>pr</th>\n",
       "    </tr>\n",
       "  </thead>\n",
       "  <tbody>\n",
       "    <tr>\n",
       "      <th>0</th>\n",
       "      <td>20201201</td>\n",
       "      <td>0.690706</td>\n",
       "    </tr>\n",
       "    <tr>\n",
       "      <th>1</th>\n",
       "      <td>20201201</td>\n",
       "      <td>0.853663</td>\n",
       "    </tr>\n",
       "    <tr>\n",
       "      <th>2</th>\n",
       "      <td>20201201</td>\n",
       "      <td>1.088705</td>\n",
       "    </tr>\n",
       "    <tr>\n",
       "      <th>3</th>\n",
       "      <td>20201201</td>\n",
       "      <td>1.452076</td>\n",
       "    </tr>\n",
       "    <tr>\n",
       "      <th>4</th>\n",
       "      <td>20201201</td>\n",
       "      <td>1.969763</td>\n",
       "    </tr>\n",
       "  </tbody>\n",
       "</table>\n",
       "</div>"
      ],
      "text/plain": [
       "   yyyymmdd        pr\n",
       "0  20201201  0.690706\n",
       "1  20201201  0.853663\n",
       "2  20201201  1.088705\n",
       "3  20201201  1.452076\n",
       "4  20201201  1.969763"
      ]
     },
     "execution_count": 20,
     "metadata": {},
     "output_type": "execute_result"
    }
   ],
   "source": [
    "%%time\n",
    "fpq.ParquetFile(f\"{fname}_brotli.parq\").to_pandas(['yyyymmdd', 'pr']).head()"
   ]
  },
  {
   "cell_type": "markdown",
   "id": "191c9937-b958-4b96-beff-35d057a5e449",
   "metadata": {
    "tags": []
   },
   "source": [
    "### With lz4 compression"
   ]
  },
  {
   "cell_type": "markdown",
   "id": "4778eacd-6b53-4645-8651-ddb7877ec422",
   "metadata": {},
   "source": [
    "Write"
   ]
  },
  {
   "cell_type": "code",
   "execution_count": 21,
   "id": "7c656f6d-33d0-4028-86ef-f4d9ec99c161",
   "metadata": {},
   "outputs": [
    {
     "name": "stdout",
     "output_type": "stream",
     "text": [
      "CPU times: user 2.39 s, sys: 502 ms, total: 2.89 s\n",
      "Wall time: 2.99 s\n"
     ]
    }
   ],
   "source": [
    "%%time\n",
    "fpq.write(f\"{fname}_lz4.parq\", df, compression=\"lz4\")"
   ]
  },
  {
   "cell_type": "markdown",
   "id": "8411c918-fadf-4e52-ac93-532603fc56cf",
   "metadata": {},
   "source": [
    "Read"
   ]
  },
  {
   "cell_type": "code",
   "execution_count": 22,
   "id": "1062df43-e7aa-4fd4-99d6-8d0cd06a38ee",
   "metadata": {},
   "outputs": [
    {
     "name": "stdout",
     "output_type": "stream",
     "text": [
      "CPU times: user 232 ms, sys: 72 ms, total: 304 ms\n",
      "Wall time: 304 ms\n"
     ]
    },
    {
     "data": {
      "text/html": [
       "<div>\n",
       "<style scoped>\n",
       "    .dataframe tbody tr th:only-of-type {\n",
       "        vertical-align: middle;\n",
       "    }\n",
       "\n",
       "    .dataframe tbody tr th {\n",
       "        vertical-align: top;\n",
       "    }\n",
       "\n",
       "    .dataframe thead th {\n",
       "        text-align: right;\n",
       "    }\n",
       "</style>\n",
       "<table border=\"1\" class=\"dataframe\">\n",
       "  <thead>\n",
       "    <tr style=\"text-align: right;\">\n",
       "      <th></th>\n",
       "      <th>yyyymmdd</th>\n",
       "      <th>pr</th>\n",
       "    </tr>\n",
       "  </thead>\n",
       "  <tbody>\n",
       "    <tr>\n",
       "      <th>0</th>\n",
       "      <td>20201201</td>\n",
       "      <td>0.690706</td>\n",
       "    </tr>\n",
       "    <tr>\n",
       "      <th>1</th>\n",
       "      <td>20201201</td>\n",
       "      <td>0.853663</td>\n",
       "    </tr>\n",
       "    <tr>\n",
       "      <th>2</th>\n",
       "      <td>20201201</td>\n",
       "      <td>1.088705</td>\n",
       "    </tr>\n",
       "    <tr>\n",
       "      <th>3</th>\n",
       "      <td>20201201</td>\n",
       "      <td>1.452076</td>\n",
       "    </tr>\n",
       "    <tr>\n",
       "      <th>4</th>\n",
       "      <td>20201201</td>\n",
       "      <td>1.969763</td>\n",
       "    </tr>\n",
       "  </tbody>\n",
       "</table>\n",
       "</div>"
      ],
      "text/plain": [
       "   yyyymmdd        pr\n",
       "0  20201201  0.690706\n",
       "1  20201201  0.853663\n",
       "2  20201201  1.088705\n",
       "3  20201201  1.452076\n",
       "4  20201201  1.969763"
      ]
     },
     "execution_count": 22,
     "metadata": {},
     "output_type": "execute_result"
    }
   ],
   "source": [
    "%%time\n",
    "fpq.ParquetFile(f\"{fname}_lz4.parq\").to_pandas(['yyyymmdd', 'pr']).head()"
   ]
  },
  {
   "cell_type": "markdown",
   "id": "c89873bc-3719-4e0b-87bc-4eeed78e4fca",
   "metadata": {
    "tags": []
   },
   "source": [
    "### With lz4_raw compression"
   ]
  },
  {
   "cell_type": "markdown",
   "id": "33c6adce-ae56-4351-b938-79d6883bebf8",
   "metadata": {},
   "source": [
    "Write"
   ]
  },
  {
   "cell_type": "code",
   "execution_count": 30,
   "id": "ab8ffe2f-47ac-4154-997d-2bd916c5b49a",
   "metadata": {},
   "outputs": [
    {
     "name": "stdout",
     "output_type": "stream",
     "text": [
      "CPU times: user 2.38 s, sys: 484 ms, total: 2.86 s\n",
      "Wall time: 3.14 s\n"
     ]
    }
   ],
   "source": [
    "%%time\n",
    "fpq.write(f\"{fname}_lz4_raw.parq\", df, compression=\"lz4_raw\")"
   ]
  },
  {
   "cell_type": "markdown",
   "id": "091aee83-f7d3-4a95-8df7-be177e07d7b6",
   "metadata": {},
   "source": [
    "Read"
   ]
  },
  {
   "cell_type": "code",
   "execution_count": 31,
   "id": "4a0dfc84-27f6-45a1-ab39-7af851a646f4",
   "metadata": {},
   "outputs": [
    {
     "name": "stdout",
     "output_type": "stream",
     "text": [
      "CPU times: user 230 ms, sys: 69.9 ms, total: 300 ms\n",
      "Wall time: 300 ms\n"
     ]
    },
    {
     "data": {
      "text/html": [
       "<div>\n",
       "<style scoped>\n",
       "    .dataframe tbody tr th:only-of-type {\n",
       "        vertical-align: middle;\n",
       "    }\n",
       "\n",
       "    .dataframe tbody tr th {\n",
       "        vertical-align: top;\n",
       "    }\n",
       "\n",
       "    .dataframe thead th {\n",
       "        text-align: right;\n",
       "    }\n",
       "</style>\n",
       "<table border=\"1\" class=\"dataframe\">\n",
       "  <thead>\n",
       "    <tr style=\"text-align: right;\">\n",
       "      <th></th>\n",
       "      <th>yyyymmdd</th>\n",
       "      <th>pr</th>\n",
       "    </tr>\n",
       "  </thead>\n",
       "  <tbody>\n",
       "    <tr>\n",
       "      <th>0</th>\n",
       "      <td>20201201</td>\n",
       "      <td>0.690706</td>\n",
       "    </tr>\n",
       "    <tr>\n",
       "      <th>1</th>\n",
       "      <td>20201201</td>\n",
       "      <td>0.853663</td>\n",
       "    </tr>\n",
       "    <tr>\n",
       "      <th>2</th>\n",
       "      <td>20201201</td>\n",
       "      <td>1.088705</td>\n",
       "    </tr>\n",
       "    <tr>\n",
       "      <th>3</th>\n",
       "      <td>20201201</td>\n",
       "      <td>1.452076</td>\n",
       "    </tr>\n",
       "    <tr>\n",
       "      <th>4</th>\n",
       "      <td>20201201</td>\n",
       "      <td>1.969763</td>\n",
       "    </tr>\n",
       "  </tbody>\n",
       "</table>\n",
       "</div>"
      ],
      "text/plain": [
       "   yyyymmdd        pr\n",
       "0  20201201  0.690706\n",
       "1  20201201  0.853663\n",
       "2  20201201  1.088705\n",
       "3  20201201  1.452076\n",
       "4  20201201  1.969763"
      ]
     },
     "execution_count": 31,
     "metadata": {},
     "output_type": "execute_result"
    }
   ],
   "source": [
    "%%time\n",
    "fpq.ParquetFile(f\"{fname}_lz4_raw.parq\").to_pandas(['yyyymmdd', 'pr']).head()"
   ]
  },
  {
   "cell_type": "markdown",
   "id": "e0743931-d6b4-41f1-bee4-f0dac69de7f0",
   "metadata": {
    "tags": []
   },
   "source": [
    "### With zstandard compression"
   ]
  },
  {
   "cell_type": "markdown",
   "id": "31b0b3e1-53cd-43b7-8aba-c008bcc021aa",
   "metadata": {},
   "source": [
    "Write"
   ]
  },
  {
   "cell_type": "code",
   "execution_count": 26,
   "id": "5c0814a7-4723-4413-82c0-383d08c41397",
   "metadata": {},
   "outputs": [
    {
     "name": "stdout",
     "output_type": "stream",
     "text": [
      "CPU times: user 2.64 s, sys: 622 ms, total: 3.26 s\n",
      "Wall time: 3.31 s\n"
     ]
    }
   ],
   "source": [
    "%%time\n",
    "fpq.write(f\"{fname}_zstd.parq\", df, compression=\"zstd\")"
   ]
  },
  {
   "cell_type": "markdown",
   "id": "eae769be-895c-4be9-b20f-d53490c69f9e",
   "metadata": {},
   "source": [
    "Read"
   ]
  },
  {
   "cell_type": "code",
   "execution_count": 27,
   "id": "e1f914f3-783c-4cfb-8012-e9c4eca36195",
   "metadata": {},
   "outputs": [
    {
     "name": "stdout",
     "output_type": "stream",
     "text": [
      "CPU times: user 264 ms, sys: 89.1 ms, total: 353 ms\n",
      "Wall time: 357 ms\n"
     ]
    },
    {
     "data": {
      "text/html": [
       "<div>\n",
       "<style scoped>\n",
       "    .dataframe tbody tr th:only-of-type {\n",
       "        vertical-align: middle;\n",
       "    }\n",
       "\n",
       "    .dataframe tbody tr th {\n",
       "        vertical-align: top;\n",
       "    }\n",
       "\n",
       "    .dataframe thead th {\n",
       "        text-align: right;\n",
       "    }\n",
       "</style>\n",
       "<table border=\"1\" class=\"dataframe\">\n",
       "  <thead>\n",
       "    <tr style=\"text-align: right;\">\n",
       "      <th></th>\n",
       "      <th>yyyymmdd</th>\n",
       "      <th>pr</th>\n",
       "    </tr>\n",
       "  </thead>\n",
       "  <tbody>\n",
       "    <tr>\n",
       "      <th>0</th>\n",
       "      <td>20201201</td>\n",
       "      <td>0.690706</td>\n",
       "    </tr>\n",
       "    <tr>\n",
       "      <th>1</th>\n",
       "      <td>20201201</td>\n",
       "      <td>0.853663</td>\n",
       "    </tr>\n",
       "    <tr>\n",
       "      <th>2</th>\n",
       "      <td>20201201</td>\n",
       "      <td>1.088705</td>\n",
       "    </tr>\n",
       "    <tr>\n",
       "      <th>3</th>\n",
       "      <td>20201201</td>\n",
       "      <td>1.452076</td>\n",
       "    </tr>\n",
       "    <tr>\n",
       "      <th>4</th>\n",
       "      <td>20201201</td>\n",
       "      <td>1.969763</td>\n",
       "    </tr>\n",
       "  </tbody>\n",
       "</table>\n",
       "</div>"
      ],
      "text/plain": [
       "   yyyymmdd        pr\n",
       "0  20201201  0.690706\n",
       "1  20201201  0.853663\n",
       "2  20201201  1.088705\n",
       "3  20201201  1.452076\n",
       "4  20201201  1.969763"
      ]
     },
     "execution_count": 27,
     "metadata": {},
     "output_type": "execute_result"
    }
   ],
   "source": [
    "%%time\n",
    "fpq.ParquetFile(f\"{fname}_zstd.parq\").to_pandas(['yyyymmdd', 'pr']).head()"
   ]
  },
  {
   "cell_type": "markdown",
   "id": "4e75da5a-004f-4669-8876-f3d63982906d",
   "metadata": {},
   "source": [
    "## How big are the resulting files?"
   ]
  },
  {
   "cell_type": "code",
   "execution_count": 34,
   "id": "ce9c03e6-e5b8-484c-9a7b-fc6464b16551",
   "metadata": {
    "tags": []
   },
   "outputs": [
    {
     "name": "stdout",
     "output_type": "stream",
     "text": [
      "-rw-r--r--  1 kevin.donkers  staff   494M 24 Mar 17:29 pr_ukcp_1yr.csv\n",
      "-rw-r--r--  1 kevin.donkers  staff   384M 24 Mar 17:30 pr_ukcp_1yr.db\n",
      "-rw-r--r--  1 kevin.donkers  staff    13M 24 Mar 16:40 pr_ukcp_1yr.nc\n",
      "-rw-r--r--  1 kevin.donkers  staff   347M 24 Mar 17:30 pr_ukcp_1yr.parq\n",
      "-rw-r--r--  1 kevin.donkers  staff    12M 24 Mar 17:43 pr_ukcp_1yr_brotli.parq\n",
      "-rw-r--r--  1 kevin.donkers  staff   105M 24 Mar 17:37 pr_ukcp_1yr_gz.parq\n",
      "-rw-r--r--  1 kevin.donkers  staff   115M 24 Mar 17:43 pr_ukcp_1yr_lz4.parq\n",
      "-rw-r--r--  1 kevin.donkers  staff   115M 24 Mar 17:45 pr_ukcp_1yr_lz4_raw.parq\n",
      "-rw-r--r--  1 kevin.donkers  staff   125M 24 Mar 17:42 pr_ukcp_1yr_snappy.parq\n",
      "-rw-r--r--  1 kevin.donkers  staff    12M 24 Mar 17:44 pr_ukcp_1yr_zstd.parq\n"
     ]
    }
   ],
   "source": [
    "!ls -lh {fname}*"
   ]
  }
 ],
 "metadata": {
  "kernelspec": {
   "display_name": "Python 3",
   "language": "python",
   "name": "python3"
  },
  "language_info": {
   "codemirror_mode": {
    "name": "ipython",
    "version": 3
   },
   "file_extension": ".py",
   "mimetype": "text/x-python",
   "name": "python",
   "nbconvert_exporter": "python",
   "pygments_lexer": "ipython3",
   "version": "3.7.9"
  }
 },
 "nbformat": 4,
 "nbformat_minor": 5
}
