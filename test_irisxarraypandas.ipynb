{
 "cells": [
  {
   "cell_type": "code",
   "execution_count": 1,
   "id": "1d060116-9c1a-4ac8-b2f4-4e8d45b4391e",
   "metadata": {},
   "outputs": [],
   "source": [
    "import irisxarraypandas as ixp\n",
    "import iris\n",
    "import pandas as pd"
   ]
  },
  {
   "cell_type": "code",
   "execution_count": 2,
   "id": "62b57906-cf1f-48fc-8977-801c59935b8e",
   "metadata": {},
   "outputs": [
    {
     "data": {
      "text/plain": [
       "'lwe_precipitation_rate / (mm/day)   (ensemble_member: 1; time: 3600; projection_y_coordinate: 112; projection_x_coordinate: 82)'"
      ]
     },
     "execution_count": 2,
     "metadata": {},
     "output_type": "execute_result"
    }
   ],
   "source": [
    "fname = \"pr_rcp85_land-rcm_uk_12km_01_day_20201201-20301130\"\n",
    "cube = iris.load_cube(f\"{fname}.nc\")\n",
    "cube.summary(shorten=True)"
   ]
  },
  {
   "cell_type": "code",
   "execution_count": 3,
   "id": "54c13131-a341-43e7-980d-766d1da5e8e9",
   "metadata": {},
   "outputs": [
    {
     "name": "stdout",
     "output_type": "stream",
     "text": [
      "CPU times: user 15.9 ms, sys: 3.5 ms, total: 19.4 ms\n",
      "Wall time: 18.6 ms\n"
     ]
    },
    {
     "name": "stderr",
     "output_type": "stream",
     "text": [
      "/Users/kevin.donkers/opt/miniconda3/envs/data/lib/python3.7/site-packages/iris/coord_systems.py:531: UserWarning: The default value for the *approx* keyword argument to TransverseMercator will change from True to False after 0.18.\n",
      "  globe=globe,\n"
     ]
    }
   ],
   "source": [
    "%%time\n",
    "cube_ll = ixp.add_lat_lon(cube)"
   ]
  },
  {
   "cell_type": "code",
   "execution_count": 4,
   "id": "a28927b5-2863-435f-8483-23f331c8e439",
   "metadata": {
    "tags": []
   },
   "outputs": [
    {
     "name": "stdout",
     "output_type": "stream",
     "text": [
      "CPU times: user 1min 39s, sys: 1min 18s, total: 2min 58s\n",
      "Wall time: 3min 50s\n"
     ]
    }
   ],
   "source": [
    "%%time\n",
    "df = ixp.cube_to_dataframe(cube_ll)"
   ]
  },
  {
   "cell_type": "code",
   "execution_count": null,
   "id": "9ee08d4c-2452-49e6-afe5-2db632d042c9",
   "metadata": {},
   "outputs": [],
   "source": [
    "%%time \n",
    "df.to_csv(f\"{fname}.csv\")"
   ]
  },
  {
   "cell_type": "raw",
   "id": "2b79b2b8-5850-4d0f-bfe6-be6db97bda2c",
   "metadata": {},
   "source": [
    "Crashes the kernel, both jupyter and python\n",
    "%%time\n",
    "fname_eu = \"pr_rcp85_land-rcm_eur_12km_01_day_20201201-20301130.nc\"\n",
    "ixp.cube_to_dataframe(ixp.add_lat_lon(iris.load_cube(fname_eu)))"
   ]
  },
  {
   "cell_type": "code",
   "execution_count": null,
   "id": "90cea7b0-749d-4197-ae8d-e212cb2b0dd3",
   "metadata": {},
   "outputs": [],
   "source": []
  }
 ],
 "metadata": {
  "kernelspec": {
   "display_name": "Python 3",
   "language": "python",
   "name": "python3"
  },
  "language_info": {
   "codemirror_mode": {
    "name": "ipython",
    "version": 3
   },
   "file_extension": ".py",
   "mimetype": "text/x-python",
   "name": "python",
   "nbconvert_exporter": "python",
   "pygments_lexer": "ipython3",
   "version": "3.7.9"
  }
 },
 "nbformat": 4,
 "nbformat_minor": 5
}
