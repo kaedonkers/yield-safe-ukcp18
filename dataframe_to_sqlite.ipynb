{
 "cells": [
  {
   "cell_type": "markdown",
   "id": "2b4e9bd2-5ef9-4678-b27b-9713f24ba2ec",
   "metadata": {},
   "source": [
    "# 20220324: Test saving Dataframe to SQLite .db file"
   ]
  },
  {
   "cell_type": "code",
   "execution_count": 1,
   "id": "b8ee3023-47f8-4241-ac5d-9b0ebc20cc4e",
   "metadata": {},
   "outputs": [],
   "source": [
    "import sqlite3 as sql\n",
    "import pandas as pd"
   ]
  },
  {
   "cell_type": "code",
   "execution_count": 2,
   "id": "5b9e9094-2ca2-4217-b9cb-f10c122b7876",
   "metadata": {},
   "outputs": [],
   "source": [
    "fname = \"pr_rcp85_land-rcm_uk_12km_01_day_20201201-20301130\""
   ]
  },
  {
   "cell_type": "code",
   "execution_count": 3,
   "id": "0b92a23c-7948-4163-91a8-7dde8401e3fa",
   "metadata": {},
   "outputs": [
    {
     "name": "stdout",
     "output_type": "stream",
     "text": [
      "CPU times: user 46 s, sys: 20.8 s, total: 1min 6s\n",
      "Wall time: 1min 24s\n"
     ]
    },
    {
     "data": {
      "text/html": [
       "<div>\n",
       "<style scoped>\n",
       "    .dataframe tbody tr th:only-of-type {\n",
       "        vertical-align: middle;\n",
       "    }\n",
       "\n",
       "    .dataframe tbody tr th {\n",
       "        vertical-align: top;\n",
       "    }\n",
       "\n",
       "    .dataframe thead th {\n",
       "        text-align: right;\n",
       "    }\n",
       "</style>\n",
       "<table border=\"1\" class=\"dataframe\">\n",
       "  <thead>\n",
       "    <tr style=\"text-align: right;\">\n",
       "      <th></th>\n",
       "      <th>Unnamed: 0</th>\n",
       "      <th>ensemble_member</th>\n",
       "      <th>time</th>\n",
       "      <th>projection_y_coordinate</th>\n",
       "      <th>projection_x_coordinate</th>\n",
       "      <th>ensemble_member_id</th>\n",
       "      <th>month_number</th>\n",
       "      <th>year</th>\n",
       "      <th>yyyymmdd</th>\n",
       "      <th>grid_latitude</th>\n",
       "      <th>grid_longitude</th>\n",
       "      <th>latitude</th>\n",
       "      <th>longitude</th>\n",
       "      <th>pr</th>\n",
       "    </tr>\n",
       "  </thead>\n",
       "  <tbody>\n",
       "    <tr>\n",
       "      <th>0</th>\n",
       "      <td>0</td>\n",
       "      <td>1</td>\n",
       "      <td>2020-12-01 12:00:00</td>\n",
       "      <td>-102000.0</td>\n",
       "      <td>-210000.0</td>\n",
       "      <td>HadREM3-GA705-r001i1p00000</td>\n",
       "      <td>12</td>\n",
       "      <td>2020</td>\n",
       "      <td>20201201</td>\n",
       "      <td>1.432699</td>\n",
       "      <td>-18.241456</td>\n",
       "      <td>48.682767</td>\n",
       "      <td>-10.291939</td>\n",
       "      <td>0.690706</td>\n",
       "    </tr>\n",
       "    <tr>\n",
       "      <th>1</th>\n",
       "      <td>1</td>\n",
       "      <td>1</td>\n",
       "      <td>2020-12-01 12:00:00</td>\n",
       "      <td>-102000.0</td>\n",
       "      <td>-198000.0</td>\n",
       "      <td>HadREM3-GA705-r001i1p00000</td>\n",
       "      <td>12</td>\n",
       "      <td>2020</td>\n",
       "      <td>20201201</td>\n",
       "      <td>1.404462</td>\n",
       "      <td>-18.138041</td>\n",
       "      <td>48.694350</td>\n",
       "      <td>-10.130549</td>\n",
       "      <td>0.853663</td>\n",
       "    </tr>\n",
       "    <tr>\n",
       "      <th>2</th>\n",
       "      <td>2</td>\n",
       "      <td>1</td>\n",
       "      <td>2020-12-01 12:00:00</td>\n",
       "      <td>-102000.0</td>\n",
       "      <td>-186000.0</td>\n",
       "      <td>HadREM3-GA705-r001i1p00000</td>\n",
       "      <td>12</td>\n",
       "      <td>2020</td>\n",
       "      <td>20201201</td>\n",
       "      <td>1.376215</td>\n",
       "      <td>-18.034611</td>\n",
       "      <td>48.705708</td>\n",
       "      <td>-9.969056</td>\n",
       "      <td>1.088705</td>\n",
       "    </tr>\n",
       "    <tr>\n",
       "      <th>3</th>\n",
       "      <td>3</td>\n",
       "      <td>1</td>\n",
       "      <td>2020-12-01 12:00:00</td>\n",
       "      <td>-102000.0</td>\n",
       "      <td>-174000.0</td>\n",
       "      <td>HadREM3-GA705-r001i1p00000</td>\n",
       "      <td>12</td>\n",
       "      <td>2020</td>\n",
       "      <td>20201201</td>\n",
       "      <td>1.347959</td>\n",
       "      <td>-17.931165</td>\n",
       "      <td>48.716841</td>\n",
       "      <td>-9.807464</td>\n",
       "      <td>1.452076</td>\n",
       "    </tr>\n",
       "    <tr>\n",
       "      <th>4</th>\n",
       "      <td>4</td>\n",
       "      <td>1</td>\n",
       "      <td>2020-12-01 12:00:00</td>\n",
       "      <td>-102000.0</td>\n",
       "      <td>-162000.0</td>\n",
       "      <td>HadREM3-GA705-r001i1p00000</td>\n",
       "      <td>12</td>\n",
       "      <td>2020</td>\n",
       "      <td>20201201</td>\n",
       "      <td>1.319692</td>\n",
       "      <td>-17.827705</td>\n",
       "      <td>48.727750</td>\n",
       "      <td>-9.645773</td>\n",
       "      <td>1.969763</td>\n",
       "    </tr>\n",
       "  </tbody>\n",
       "</table>\n",
       "</div>"
      ],
      "text/plain": [
       "   Unnamed: 0  ensemble_member                 time  projection_y_coordinate  \\\n",
       "0           0                1  2020-12-01 12:00:00                -102000.0   \n",
       "1           1                1  2020-12-01 12:00:00                -102000.0   \n",
       "2           2                1  2020-12-01 12:00:00                -102000.0   \n",
       "3           3                1  2020-12-01 12:00:00                -102000.0   \n",
       "4           4                1  2020-12-01 12:00:00                -102000.0   \n",
       "\n",
       "   projection_x_coordinate          ensemble_member_id  month_number  year  \\\n",
       "0                -210000.0  HadREM3-GA705-r001i1p00000            12  2020   \n",
       "1                -198000.0  HadREM3-GA705-r001i1p00000            12  2020   \n",
       "2                -186000.0  HadREM3-GA705-r001i1p00000            12  2020   \n",
       "3                -174000.0  HadREM3-GA705-r001i1p00000            12  2020   \n",
       "4                -162000.0  HadREM3-GA705-r001i1p00000            12  2020   \n",
       "\n",
       "   yyyymmdd  grid_latitude  grid_longitude   latitude  longitude        pr  \n",
       "0  20201201       1.432699      -18.241456  48.682767 -10.291939  0.690706  \n",
       "1  20201201       1.404462      -18.138041  48.694350 -10.130549  0.853663  \n",
       "2  20201201       1.376215      -18.034611  48.705708  -9.969056  1.088705  \n",
       "3  20201201       1.347959      -17.931165  48.716841  -9.807464  1.452076  \n",
       "4  20201201       1.319692      -17.827705  48.727750  -9.645773  1.969763  "
      ]
     },
     "execution_count": 3,
     "metadata": {},
     "output_type": "execute_result"
    }
   ],
   "source": [
    "%%time\n",
    "df = pd.read_csv(f\"{fname}.csv\")\n",
    "df.head()"
   ]
  },
  {
   "cell_type": "code",
   "execution_count": 4,
   "id": "2992fb9b-2972-4f55-a8c2-2d3e011fdd1e",
   "metadata": {},
   "outputs": [],
   "source": [
    "conn = sql.connect(f\"{fname}.db\")"
   ]
  },
  {
   "cell_type": "code",
   "execution_count": 5,
   "id": "d9ce1948-8568-4e06-8bf3-b80ab6265b3b",
   "metadata": {},
   "outputs": [
    {
     "name": "stderr",
     "output_type": "stream",
     "text": [
      "/Users/kevin.donkers/opt/miniconda3/envs/data/lib/python3.7/site-packages/pandas/core/generic.py:2879: UserWarning: The spaces in these column names will not be changed. In pandas versions < 0.14, spaces were converted to underscores.\n",
      "  method=method,\n"
     ]
    },
    {
     "name": "stdout",
     "output_type": "stream",
     "text": [
      "CPU times: user 2min 36s, sys: 2min 20s, total: 4min 56s\n",
      "Wall time: 7min 19s\n"
     ]
    }
   ],
   "source": [
    "%%time\n",
    "df.to_sql('ukcp18', conn)"
   ]
  },
  {
   "cell_type": "code",
   "execution_count": 6,
   "id": "9b5f6eb2-c8a2-4c00-8b89-ad10c71b5acd",
   "metadata": {},
   "outputs": [
    {
     "name": "stdout",
     "output_type": "stream",
     "text": [
      "CPU times: user 43.4 s, sys: 33.3 s, total: 1min 16s\n",
      "Wall time: 3min 19s\n"
     ]
    },
    {
     "data": {
      "text/html": [
       "<div>\n",
       "<style scoped>\n",
       "    .dataframe tbody tr th:only-of-type {\n",
       "        vertical-align: middle;\n",
       "    }\n",
       "\n",
       "    .dataframe tbody tr th {\n",
       "        vertical-align: top;\n",
       "    }\n",
       "\n",
       "    .dataframe thead th {\n",
       "        text-align: right;\n",
       "    }\n",
       "</style>\n",
       "<table border=\"1\" class=\"dataframe\">\n",
       "  <thead>\n",
       "    <tr style=\"text-align: right;\">\n",
       "      <th></th>\n",
       "      <th>yyyymmdd</th>\n",
       "      <th>pr</th>\n",
       "    </tr>\n",
       "  </thead>\n",
       "  <tbody>\n",
       "    <tr>\n",
       "      <th>0</th>\n",
       "      <td>20201201</td>\n",
       "      <td>0.690706</td>\n",
       "    </tr>\n",
       "    <tr>\n",
       "      <th>1</th>\n",
       "      <td>20201201</td>\n",
       "      <td>0.853663</td>\n",
       "    </tr>\n",
       "    <tr>\n",
       "      <th>2</th>\n",
       "      <td>20201201</td>\n",
       "      <td>1.088705</td>\n",
       "    </tr>\n",
       "    <tr>\n",
       "      <th>3</th>\n",
       "      <td>20201201</td>\n",
       "      <td>1.452076</td>\n",
       "    </tr>\n",
       "    <tr>\n",
       "      <th>4</th>\n",
       "      <td>20201201</td>\n",
       "      <td>1.969763</td>\n",
       "    </tr>\n",
       "  </tbody>\n",
       "</table>\n",
       "</div>"
      ],
      "text/plain": [
       "   yyyymmdd        pr\n",
       "0  20201201  0.690706\n",
       "1  20201201  0.853663\n",
       "2  20201201  1.088705\n",
       "3  20201201  1.452076\n",
       "4  20201201  1.969763"
      ]
     },
     "execution_count": 6,
     "metadata": {},
     "output_type": "execute_result"
    }
   ],
   "source": [
    "%%time\n",
    "weather = pd.read_sql('SELECT yyyymmdd, pr FROM ukcp18', conn)\n",
    "weather.head()"
   ]
  },
  {
   "cell_type": "markdown",
   "id": "a417380b-d48f-489f-89e7-7ae969ed54c5",
   "metadata": {
    "tags": []
   },
   "source": [
    "## Conclusion:\n",
    "The data reduced in size from a 5.5 GB `.csv` to a 4.5 GB `.db`<br>\n",
    "This is not enough of a reduction to warrant saving to SQLite only, perhaps I will need to set up a proper database.<br>\n",
    "SQLite is cool and easy to use."
   ]
  },
  {
   "cell_type": "code",
   "execution_count": null,
   "id": "fa6eb46c-489d-4b9a-a215-2a4bf70354f3",
   "metadata": {},
   "outputs": [],
   "source": []
  }
 ],
 "metadata": {
  "kernelspec": {
   "display_name": "Python 3",
   "language": "python",
   "name": "python3"
  },
  "language_info": {
   "codemirror_mode": {
    "name": "ipython",
    "version": 3
   },
   "file_extension": ".py",
   "mimetype": "text/x-python",
   "name": "python",
   "nbconvert_exporter": "python",
   "pygments_lexer": "ipython3",
   "version": "3.7.9"
  }
 },
 "nbformat": 4,
 "nbformat_minor": 5
}
